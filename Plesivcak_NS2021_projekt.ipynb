{
 "cells": [
  {
   "cell_type": "code",
   "execution_count": null,
   "metadata": {},
   "outputs": [],
   "source": [
    "import numpy as np\n",
    "import matplotlib.pyplot as plt\n",
    "import pandas as pd\n",
    "from keras.models import Sequential\n",
    "from keras.layers import Dense"
   ]
  },
  {
   "cell_type": "code",
   "execution_count": null,
   "metadata": {},
   "outputs": [],
   "source": [
    "#načítanie datasetu\n",
    "data = pd.read_csv(\"dataset_stroke.csv\")"
   ]
  },
  {
   "cell_type": "code",
   "execution_count": null,
   "metadata": {},
   "outputs": [],
   "source": [
    "data"
   ]
  },
  {
   "cell_type": "code",
   "execution_count": null,
   "metadata": {},
   "outputs": [],
   "source": [
    "#z datasetu je zrejmé, že posledná osoba ktorá mala mrtvicu má \"id\" 43424\n",
    "#ked si danú osobu vypíšeme, zistíme, že prvých 249 záznamov v datasete malo mrtvicu (potom sú už len 0)\n",
    "last_person_with_stroke = data[data[\"id\"]==43424]\n",
    "last_person_with_stroke"
   ]
  },
  {
   "cell_type": "code",
   "execution_count": null,
   "metadata": {},
   "outputs": [],
   "source": [
    "#zahodíme nepotrebné stĺpce, aby sme pracovali len s faktormi, ktoré nás zaujímajú\n",
    "data = data.drop(data.columns[[0, 6, 7, 8, 9, 10]], axis=1)"
   ]
  },
  {
   "cell_type": "code",
   "execution_count": null,
   "metadata": {},
   "outputs": [],
   "source": [
    "data"
   ]
  },
  {
   "cell_type": "code",
   "execution_count": null,
   "metadata": {},
   "outputs": [],
   "source": [
    "#zoberieme prvých 496 záznamov, polovica mala mrtvicu, druhá nie\n",
    "data = data.head(496)"
   ]
  },
  {
   "cell_type": "code",
   "execution_count": null,
   "metadata": {},
   "outputs": [],
   "source": [
    "data"
   ]
  },
  {
   "cell_type": "code",
   "execution_count": null,
   "metadata": {},
   "outputs": [],
   "source": [
    "#zistíme najmenší vek respondenta = 0.64 rokov\n",
    "data[data[\"age\"]==data[\"age\"].min()]"
   ]
  },
  {
   "cell_type": "code",
   "execution_count": null,
   "metadata": {},
   "outputs": [],
   "source": [
    "#zistíme najväčší vek respondenta = 82 rokov\n",
    "data[data[\"age\"]==data[\"age\"].max()]"
   ]
  },
  {
   "cell_type": "code",
   "execution_count": null,
   "metadata": {},
   "outputs": [],
   "source": [
    "#preštylizujeme si dáta, kedže neuronová sieť nevie pracovať so Stringami\n",
    "#pohlavie bude 1 ak je to muž, v opačnom prípade bude 0\n",
    "#to či bol človek ženatý bude 1 ak áno, ak nie tak 0\n",
    "data.loc[data['gender'] == \"Male\", 'gender'] = 1\n",
    "data.loc[data['gender'] == \"Female\", 'gender'] = 0\n",
    "data.loc[data['ever_married'] == \"Yes\", 'ever_married'] = 1\n",
    "data.loc[data['ever_married'] == \"No\", 'ever_married'] = 0\n",
    "data"
   ]
  },
  {
   "cell_type": "code",
   "execution_count": null,
   "metadata": {},
   "outputs": [],
   "source": [
    "#vyberieme si X-sové hodnoty (vstupy)\n",
    "#preštylizujeme ich na float32, kedže inak keras hádže error\n",
    "X = data.iloc[:, [0,1,2,3,4]].values\n",
    "X = np.asarray(X).astype('float32')"
   ]
  },
  {
   "cell_type": "code",
   "execution_count": null,
   "metadata": {},
   "outputs": [],
   "source": [
    "X"
   ]
  },
  {
   "cell_type": "code",
   "execution_count": null,
   "metadata": {},
   "outputs": [],
   "source": [
    "#vyberieme požadovaný výstup\n",
    "Y = data.iloc[:, 5].values"
   ]
  },
  {
   "cell_type": "code",
   "execution_count": null,
   "metadata": {},
   "outputs": [],
   "source": [
    "Y"
   ]
  },
  {
   "cell_type": "code",
   "execution_count": null,
   "metadata": {},
   "outputs": [],
   "source": [
    "#vytvoríme si testovacie a trénovacie dáta, pomocou knižnice sklearn\n",
    "from sklearn.model_selection import train_test_split\n",
    "X_Train, X_Test, Y_Train, Y_Test = train_test_split(X, Y, train_size=0.8, random_state=1)"
   ]
  },
  {
   "cell_type": "code",
   "execution_count": 114,
   "metadata": {},
   "outputs": [],
   "source": [
    "#vytvoríme si Keras Model\n",
    "#aktivačné funkcie sú relu, relu a sigmoid\n",
    "model = Sequential()\n",
    "model.add(Dense(100, input_dim=5, activation='relu'))\n",
    "model.add(Dense(5, activation='relu'))\n",
    "model.add(Dense(1, activation='sigmoid'))"
   ]
  },
  {
   "cell_type": "code",
   "execution_count": 115,
   "metadata": {},
   "outputs": [
    {
     "name": "stdout",
     "output_type": "stream",
     "text": [
      "Epoch 1/10\n",
      "4/4 [==============================] - 1s 100ms/step - loss: 0.6931 - accuracy: 0.4673 - val_loss: 0.6933 - val_accuracy: 0.4500\n",
      "Epoch 2/10\n",
      "4/4 [==============================] - 0s 38ms/step - loss: 0.6931 - accuracy: 0.5244 - val_loss: 0.6933 - val_accuracy: 0.4500\n",
      "Epoch 3/10\n",
      "4/4 [==============================] - 0s 31ms/step - loss: 0.6931 - accuracy: 0.5081 - val_loss: 0.6934 - val_accuracy: 0.4500\n",
      "Epoch 4/10\n",
      "4/4 [==============================] - 0s 44ms/step - loss: 0.6931 - accuracy: 0.5111 - val_loss: 0.6934 - val_accuracy: 0.4500\n",
      "Epoch 5/10\n",
      "4/4 [==============================] - 0s 29ms/step - loss: 0.6931 - accuracy: 0.5181 - val_loss: 0.6935 - val_accuracy: 0.4500\n",
      "Epoch 6/10\n",
      "4/4 [==============================] - 0s 42ms/step - loss: 0.6930 - accuracy: 0.5174 - val_loss: 0.6935 - val_accuracy: 0.4500\n",
      "Epoch 7/10\n",
      "4/4 [==============================] - 0s 34ms/step - loss: 0.6930 - accuracy: 0.5147 - val_loss: 0.6936 - val_accuracy: 0.4500\n",
      "Epoch 8/10\n",
      "4/4 [==============================] - 0s 37ms/step - loss: 0.6929 - accuracy: 0.5237 - val_loss: 0.6937 - val_accuracy: 0.4500\n",
      "Epoch 9/10\n",
      "4/4 [==============================] - 0s 31ms/step - loss: 0.6929 - accuracy: 0.5301 - val_loss: 0.6937 - val_accuracy: 0.4500\n",
      "Epoch 10/10\n",
      "4/4 [==============================] - 0s 34ms/step - loss: 0.6930 - accuracy: 0.5114 - val_loss: 0.6938 - val_accuracy: 0.4500\n",
      "13/13 [==============================] - 0s 1ms/step - loss: 0.6930 - accuracy: 0.5152\n"
     ]
    }
   ],
   "source": [
    "#určíme si optimizer\n",
    "#natrénujeme neurónovú sieť\n",
    "model.compile(loss='binary_crossentropy', optimizer='adam', metrics=['accuracy'])\n",
    "history = model.fit(X_Train, Y_Train, validation_data=(X_Test, Y_Test), epochs=10, batch_size=100)\n",
    "scores=model.evaluate(X_Train,Y_Train)"
   ]
  },
  {
   "cell_type": "code",
   "execution_count": 116,
   "metadata": {},
   "outputs": [
    {
     "name": "stdout",
     "output_type": "stream",
     "text": [
      "69.29835081100464\n"
     ]
    }
   ],
   "source": [
    "print(scores[0]*100)"
   ]
  },
  {
   "cell_type": "code",
   "execution_count": 117,
   "metadata": {},
   "outputs": [
    {
     "name": "stdout",
     "output_type": "stream",
     "text": [
      "dict_keys(['loss', 'accuracy', 'val_loss', 'val_accuracy'])\n"
     ]
    }
   ],
   "source": [
    "print(history.history.keys())"
   ]
  },
  {
   "cell_type": "code",
   "execution_count": 118,
   "metadata": {},
   "outputs": [
    {
     "data": {
      "image/png": "[encoded data removed]",
      "text/plain": [
       "<Figure size 432x288 with 1 Axes>"
      ]
     },
     "metadata": {
      "needs_background": "light"
     },
     "output_type": "display_data"
    }
   ],
   "source": [
    "plt.plot(history.history['accuracy'])\n",
    "plt.title('Presnost modelu')\n",
    "plt.ylabel('Presnost')\n",
    "plt.xlabel('Pocet epoch')\n",
    "plt.legend(['X_Train'])\n",
    "plt.show()"
   ]
  },
  {
   "cell_type": "code",
   "execution_count": 119,
   "metadata": {},
   "outputs": [
    {
     "data": {
      "image/png": "[encoded data removed]",
      "text/plain": [
       "<Figure size 432x288 with 1 Axes>"
      ]
     },
     "metadata": {
      "needs_background": "light"
     },
     "output_type": "display_data"
    }
   ],
   "source": [
    "plt.plot(history.history['loss'])\n",
    "plt.title('Chyba modelu')\n",
    "plt.ylabel('Chyba')\n",
    "plt.xlabel('epochi')\n",
    "plt.legend([\"X_Train\"])\n",
    "plt.show()"
   ]
  },
  {
   "cell_type": "code",
   "execution_count": 120,
   "metadata": {},
   "outputs": [],
   "source": [
    "from matplotlib.colors import ListedColormap\n",
    "X_Set, Y_Set = X_Train, Y_Train\n",
    "#doplnit vizualizaciu"
   ]
  },
  {
   "cell_type": "code",
   "execution_count": 121,
   "metadata": {},
   "outputs": [],
   "source": [
    "X_Set, Y_Set = X_Test, Y_Test\n",
    "#doplnit vizualizaciu"
   ]
  },
  {
   "cell_type": "code",
   "execution_count": 122,
   "metadata": {},
   "outputs": [],
   "source": [
    "def vratPredikciu(pohlavie, vek, hypertenzia, choroby_srdca, zenaty):\n",
    "    dataset = pd.DataFrame({\"gender\":pohlavie,\"age\":vek,\"hypertension\":hypertenzia,\"heart_disease\":choroby_srdca,\"ever_married\":zenaty},index=[0])\n",
    "    classificationPrediction = np.argmax(model.predict(dataset), axis=-1)\n",
    "    skore = scores[0]*100\n",
    "    if(classificationPrediction[0]==0):\n",
    "        return \"Nedostane, Presnost: \"+str(skore)+\"%\"\n",
    "    else:\n",
    "        return \"Dostane, Presnost: \"+str(skore)+\"%\""
   ]
  },
  {
   "cell_type": "code",
   "execution_count": 123,
   "metadata": {},
   "outputs": [
    {
     "data": {
      "text/plain": [
       "'Nedostane, Presnost: 69.29835081100464%'"
      ]
     },
     "execution_count": 123,
     "metadata": {},
     "output_type": "execute_result"
    }
   ],
   "source": [
    "vratPredikciu(1,25,1,0,0)"
   ]
  },
  {
   "cell_type": "code",
   "execution_count": null,
   "metadata": {},
   "outputs": [],
   "source": []
  }
 ],
 "metadata": {
  "kernelspec": {
   "display_name": "Python 3",
   "language": "python",
   "name": "python3"
  },
  "language_info": {
   "codemirror_mode": {
    "name": "ipython",
    "version": 3
   },
   "file_extension": ".py",
   "mimetype": "text/x-python",
   "name": "python",
   "nbconvert_exporter": "python",
   "pygments_lexer": "ipython3",
   "version": "3.8.5"
  }
 },
 "nbformat": 4,
 "nbformat_minor": 4
}
